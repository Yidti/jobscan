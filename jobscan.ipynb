{
 "cells": [
  {
   "cell_type": "markdown",
   "id": "eb1d4b84-ce72-4871-8366-dc78a7fb17fb",
   "metadata": {},
   "source": [
    "# Step 1. Reload files & Import Modules - 匯入模組"
   ]
  },
  {
   "cell_type": "markdown",
   "id": "8c984bd7-9a31-4d81-91c4-aeba6791b17e",
   "metadata": {},
   "source": [
    "## 1-1. Reload files - 重讀檔案"
   ]
  },
  {
   "cell_type": "code",
   "execution_count": 130,
   "id": "5d407f79-bd35-4d4c-8bbd-114212527717",
   "metadata": {},
   "outputs": [
    {
     "name": "stdout",
     "output_type": "stream",
     "text": [
      "3.10.13 | packaged by Anaconda, Inc. | (main, Sep 11 2023, 13:24:38) [MSC v.1916 64 bit (AMD64)]\n"
     ]
    }
   ],
   "source": [
    "import sys\n",
    "print(sys.version)"
   ]
  },
  {
   "cell_type": "code",
   "execution_count": 129,
   "id": "1141b824-fa82-4335-a02d-00bed81a491a",
   "metadata": {},
   "outputs": [
    {
     "data": {
      "text/plain": [
       "<module 'translation' from 'C:\\\\Users\\\\Rekam\\\\develop\\\\python\\\\jobscan\\\\translation.py'>"
      ]
     },
     "execution_count": 129,
     "metadata": {},
     "output_type": "execute_result"
    }
   ],
   "source": [
    "# reload file if you eaited them\n",
    "import crawler104, config.search_params, async_example, threaded_async_job, jobs104\n",
    "import data_lake, data_warehouse, translation\n",
    "\n",
    "import importlib\n",
    "importlib.reload(crawler104)\n",
    "importlib.reload(async_example)\n",
    "importlib.reload(threaded_async_job)\n",
    "importlib.reload(jobs104)\n",
    "importlib.reload(config.search_params)\n",
    "importlib.reload(data_lake)\n",
    "importlib.reload(data_warehouse)\n",
    "importlib.reload(translation)"
   ]
  },
  {
   "cell_type": "markdown",
   "id": "8f121df8-16a3-4c1b-8ef7-e3d220a52006",
   "metadata": {},
   "source": [
    "## 1-2. Import Modules - 匯入模組"
   ]
  },
  {
   "cell_type": "code",
   "execution_count": 3,
   "id": "58a236b8-7ccd-4cd6-be4e-2b64a7b8e18c",
   "metadata": {},
   "outputs": [],
   "source": [
    "# import library\n",
    "from crawler104 import Crawler104\n",
    "from config.search_params import get_filter_params\n",
    "from data_lake import DataLake\n",
    "from data_warehouse import DataWarehouse"
   ]
  },
  {
   "cell_type": "code",
   "execution_count": 132,
   "id": "24777e1b-41d4-46bf-aad7-f9db3acbebb8",
   "metadata": {},
   "outputs": [],
   "source": [
    "# 快速執行 reload & import\n",
    "%run main.py"
   ]
  },
  {
   "cell_type": "markdown",
   "id": "9919d95d-b673-4216-99ce-107226faf946",
   "metadata": {},
   "source": [
    "# Step 2. Data Source - 爬蟲抓資料"
   ]
  },
  {
   "cell_type": "markdown",
   "id": "df19f934-3f23-4ec5-94e5-5a5f793e0910",
   "metadata": {},
   "source": [
    "## 2-1. Filter Setting - 過濾條件"
   ]
  },
  {
   "cell_type": "code",
   "execution_count": 23,
   "id": "7582c23b-cd00-4645-99c3-49cd4208a305",
   "metadata": {
    "scrolled": true
   },
   "outputs": [
    {
     "name": "stdout",
     "output_type": "stream",
     "text": [
      "設定排除44家公司\n"
     ]
    }
   ],
   "source": [
    "# custom filter params for search - for yidti\n",
    "role = {'ro':'全職'}\n",
    "keyword = {'keyword':\"後端工程師 python\"}\n",
    "# area = {'area':['新北市', '台北市', '桃園市', '台中市']}\n",
    "isnew = {'isnew':'三日內'}\n",
    "jobexp = {'jobexp':['1年以下', '1-3年']}\n",
    "# 預設\n",
    "mode = {'mode':'列表'}  # 一次能呈現比較多筆資料\n",
    "order = {'order':'日期排序'}\n",
    "asc = {'asc':'遞減'}\n",
    "# filter_params = get_filter_params(role, keyword, area, isnew, jobexp, mode, order, asc)\n",
    "filter_params = get_filter_params(role, keyword, isnew, jobexp, mode, order, asc)\n",
    "# keywords for filter job again\n",
    "job_keywords = ('工程','資料','python','data','數據','後端')\n",
    "# Exclude keywords to filter out companies related to gambling or others that I don't want to consider.\n",
    "company_exclude = ('新加坡商冕創有限公司','新博軟體開發股份有限公司','現觀科技股份有限公司'\n",
    "                   ,'全富數位有限公司','杰思數位有限公司','博凡星國際有限公司',\n",
    "                  '尊博科技股份有限公司','新騎資訊有限公司','新加坡商鈦坦科技股份有限公司台灣分公司',\n",
    "                   '豪穎科技股份有限公司','塶樂微創有限公司','磐弈有限公司',\n",
    "                   '聯訊網路有限公司','冶金數位科技有限公司','肥貓科技有限公司',\n",
    "                   '無名科技有限公司','博澭科技有限公司','緯雲股份有限公司',\n",
    "                   '風采有限公司','英屬維京群島商嘉碼科技有限公司台灣分公司',\n",
    "                   '冠宇數位科技股份有限公司','英仕國際有限公司','元遊科技有限公司',\n",
    "                   '禾碩資訊股份有限公司','向上集團_向上國際科技股份有限公司',\n",
    "                   '弈樂科技股份有限公司','馬來西亞商極限電腦科技有限公司台灣分公司',\n",
    "                   '樂夠科技有限公司','威智國際有限公司','紅信科技有限公司',\n",
    "                   '深思設計有限公司','揚帆科技有限公司','晶要資訊有限公司',\n",
    "                   '九七科技股份有限公司','臣悅科技有限公司','尊承科技股份有限公司',\n",
    "                   '遊戲河流有限公司','唐傳有限公司','捷訊資訊有限公司',\n",
    "                   '逍遙遊科技有限公司','澄果資訊服務有限公司','果遊科技有限公司',\n",
    "                   '昱泉國際股份有限公司','博星數位股份有限公司',\n",
    "                  )\n",
    "user = \"yidti\"\n",
    "crawler = Crawler104(filter_params, user)\n",
    "print(f\"設定排除{len(company_exclude)}家公司\")"
   ]
  },
  {
   "cell_type": "markdown",
   "id": "65f2ac55-a1a1-43d7-b10c-7b0a45d15125",
   "metadata": {},
   "source": [
    "## 2-2. Web Crawler - 抓取Jobs清單"
   ]
  },
  {
   "cell_type": "code",
   "execution_count": 24,
   "id": "dc82644b-0ee1-446c-8a85-25736a64e68c",
   "metadata": {},
   "outputs": [
    {
     "name": "stdout",
     "output_type": "stream",
     "text": [
      "url: https://www.104.com.tw/jobs/search/?ro=1&keyword=%E5%BE%8C%E7%AB%AF%E5%B7%A5%E7%A8%8B%E5%B8%AB+python&isnew=3&jobexp=1%2C3&mode=l&order=16&asc=0\n"
     ]
    },
    {
     "name": "stderr",
     "output_type": "stream",
     "text": [
      "Loading: 100%|██████████| 100/100 [02:15<00:00,  1.36s/page]\n"
     ]
    },
    {
     "name": "stdout",
     "output_type": "stream",
     "text": [
      "載入100頁 | 載入2967筆資料 | 過濾剩2217筆資料 | 花費 154.67 秒\n"
     ]
    }
   ],
   "source": [
    "# chrome for testing -> https://googlechromelabs.github.io/chrome-for-testing/\n",
    "crawler.run(job_keywords, company_exclude)"
   ]
  },
  {
   "cell_type": "markdown",
   "id": "56fb4d88-569f-479a-8744-83b657f2fd1d",
   "metadata": {},
   "source": [
    "## 2-3. Web Scraper - 抓取Jobs內容(異步&多線程)"
   ]
  },
  {
   "cell_type": "code",
   "execution_count": 25,
   "id": "c5a93bc8-1f3d-4d8c-85e1-452099853e08",
   "metadata": {},
   "outputs": [
    {
     "name": "stdout",
     "output_type": "stream",
     "text": [
      "exclude exist and close data\n",
      "Remove from parquet, leaving 0 remaining to scrape .\n"
     ]
    },
    {
     "name": "stderr",
     "output_type": "stream",
     "text": [
      "Processing jobs: 0job [00:00, ?job/s]"
     ]
    },
    {
     "name": "stdout",
     "output_type": "stream",
     "text": [
      "Scraping Details for 0 Jobs | 花費 0.07 秒\n"
     ]
    },
    {
     "name": "stderr",
     "output_type": "stream",
     "text": [
      "\n"
     ]
    }
   ],
   "source": [
    "# 新增 temp 暫存檔 parquet\n",
    "crawler.detail()"
   ]
  },
  {
   "cell_type": "markdown",
   "id": "c7aee73d-a6df-4196-b1c5-255be9e3d291",
   "metadata": {},
   "source": [
    "## 2-3. Export Flie - 輸出至Excel"
   ]
  },
  {
   "cell_type": "code",
   "execution_count": 26,
   "id": "0e8e103c-3cee-4eff-a52d-aa307d19f80c",
   "metadata": {},
   "outputs": [
    {
     "name": "stdout",
     "output_type": "stream",
     "text": [
      "CSV文件保存成功: output/yidti-2024-04-16.xlsx\n"
     ]
    }
   ],
   "source": [
    "# output to excel file (job)\n",
    "crawler.export_excel()"
   ]
  },
  {
   "cell_type": "markdown",
   "id": "8c20eb7f-7c49-41fb-9220-64c4ccdbd6fc",
   "metadata": {},
   "source": [
    "# Step 3. Data Lake - 資料存入NoSQL"
   ]
  },
  {
   "cell_type": "code",
   "execution_count": 39,
   "id": "4dc71e9b-0209-4000-b095-6472c2961224",
   "metadata": {},
   "outputs": [
    {
     "name": "stdout",
     "output_type": "stream",
     "text": [
      "Update 2231 records, Insert 0 records in jobs_104 collection\n",
      "job keywords - 已刪除不符合關鍵字的文件數量: 0\n",
      "company exclude - 已刪除符合條件的文件數量: 0\n"
     ]
    }
   ],
   "source": [
    "# ouput to noSQL (job, company, industry)\n",
    "data_lake = DataLake()\n",
    "data_lake.save_nosql(user, crawler)\n",
    "data_lake.filter(job_keywords, company_exclude)"
   ]
  },
  {
   "cell_type": "markdown",
   "id": "dfd23b65-8333-4cec-8337-5b9612cf4615",
   "metadata": {},
   "source": [
    "# Step 4 - Data Warehouse - 資料存入MySQL"
   ]
  },
  {
   "cell_type": "code",
   "execution_count": 191,
   "id": "b36ca7d2-ffd9-4443-86d5-898a131f4a1d",
   "metadata": {},
   "outputs": [],
   "source": [
    "# 快速執行 reload & import\n",
    "%run main.py"
   ]
  },
  {
   "cell_type": "code",
   "execution_count": 192,
   "id": "6b1ae46f-a3c3-46b0-9a79-373d3e5445f8",
   "metadata": {},
   "outputs": [
    {
     "name": "stdout",
     "output_type": "stream",
     "text": [
      "DB is created (job_db)\n",
      "Successfully executed SQL script\n",
      "Error executing SQL script: 3780 (HY000): Referencing column 'company_id' and referenced column 'company_id' in foreign key constraint 'job_info_ibfk_1' are incompatible.\n",
      "不重複的值已成功寫入experience目標表, 寫入5筆\n",
      "不重複的值已成功寫入company目標表, 寫入987筆\n"
     ]
    }
   ],
   "source": [
    "data_lake  = DataLake()\n",
    "data_Warehouse = DataWarehouse()\n",
    "data_Warehouse.initial_db()\n",
    "data_Warehouse.save_sql(data_lake)"
   ]
  },
  {
   "cell_type": "code",
   "execution_count": 180,
   "id": "ac1454f6-07a6-42de-84d2-6979a60bbd03",
   "metadata": {},
   "outputs": [
    {
     "data": {
      "text/html": [
       "<div>\n",
       "<style scoped>\n",
       "    .dataframe tbody tr th:only-of-type {\n",
       "        vertical-align: middle;\n",
       "    }\n",
       "\n",
       "    .dataframe tbody tr th {\n",
       "        vertical-align: top;\n",
       "    }\n",
       "\n",
       "    .dataframe thead th {\n",
       "        text-align: right;\n",
       "    }\n",
       "</style>\n",
       "<table border=\"1\" class=\"dataframe\">\n",
       "  <thead>\n",
       "    <tr style=\"text-align: right;\">\n",
       "      <th></th>\n",
       "      <th>exp_year</th>\n",
       "    </tr>\n",
       "  </thead>\n",
       "  <tbody>\n",
       "    <tr>\n",
       "      <th>0</th>\n",
       "      <td>2年</td>\n",
       "    </tr>\n",
       "    <tr>\n",
       "      <th>1</th>\n",
       "      <td>不拘</td>\n",
       "    </tr>\n",
       "    <tr>\n",
       "      <th>2</th>\n",
       "      <td>1年</td>\n",
       "    </tr>\n",
       "    <tr>\n",
       "      <th>3</th>\n",
       "      <td>1年以上</td>\n",
       "    </tr>\n",
       "    <tr>\n",
       "      <th>4</th>\n",
       "      <td>3年以上</td>\n",
       "    </tr>\n",
       "  </tbody>\n",
       "</table>\n",
       "</div>"
      ],
      "text/plain": [
       "  exp_year\n",
       "0       2年\n",
       "1       不拘\n",
       "2       1年\n",
       "3     1年以上\n",
       "4     3年以上"
      ]
     },
     "execution_count": 180,
     "metadata": {},
     "output_type": "execute_result"
    }
   ],
   "source": [
    "from translation import translation_dict\n",
    "\n",
    "df_new = data_Warehouse.df_no_sql.rename(columns=translation_dict)\n",
    "# selected_columns = ['company_id', 'company', 'company_link']\n",
    "selected_columns = [\"experience\"]\n",
    "rename = {\"experience\":\"exp_year\"}\n",
    "\n",
    "df_dimension = df_new[selected_columns].drop_duplicates().reset_index(drop=True)\n",
    "df_dimension = df_dimension.rename(columns = rename)\n",
    "df_dimension"
   ]
  },
  {
   "cell_type": "code",
   "execution_count": null,
   "id": "88b856ec-dfd0-49d5-8d7a-4462222cfe8d",
   "metadata": {},
   "outputs": [],
   "source": []
  },
  {
   "cell_type": "code",
   "execution_count": 162,
   "id": "374f16d3-cfac-41f0-989e-a8352ff9fcf9",
   "metadata": {},
   "outputs": [
    {
     "name": "stdout",
     "output_type": "stream",
     "text": [
      "不重複的值已成功寫入experience目標表, 寫入5筆\n",
      "不重複的值已成功寫入job_info目標表, 寫入2231筆\n"
     ]
    }
   ],
   "source": [
    "data_lake  = DataLake()\n",
    "data_Warehouse = DataWarehouse()\n",
    "data_Warehouse.save_sql(data_lake)"
   ]
  },
  {
   "cell_type": "code",
   "execution_count": 153,
   "id": "703e110c-fea9-463d-b242-158e538755f7",
   "metadata": {},
   "outputs": [
    {
     "data": {
      "text/html": [
       "<div>\n",
       "<style scoped>\n",
       "    .dataframe tbody tr th:only-of-type {\n",
       "        vertical-align: middle;\n",
       "    }\n",
       "\n",
       "    .dataframe tbody tr th {\n",
       "        vertical-align: top;\n",
       "    }\n",
       "\n",
       "    .dataframe thead th {\n",
       "        text-align: right;\n",
       "    }\n",
       "</style>\n",
       "<table border=\"1\" class=\"dataframe\">\n",
       "  <thead>\n",
       "    <tr style=\"text-align: right;\">\n",
       "      <th></th>\n",
       "      <th>更新</th>\n",
       "      <th>職缺</th>\n",
       "      <th>職缺_link</th>\n",
       "      <th>公司_id</th>\n",
       "      <th>公司</th>\n",
       "      <th>公司_link</th>\n",
       "      <th>產業_id</th>\n",
       "      <th>產業</th>\n",
       "      <th>縣市</th>\n",
       "      <th>區域</th>\n",
       "      <th>...</th>\n",
       "      <th>其他</th>\n",
       "      <th>待遇</th>\n",
       "      <th>性質</th>\n",
       "      <th>管理</th>\n",
       "      <th>出差</th>\n",
       "      <th>時段</th>\n",
       "      <th>休假</th>\n",
       "      <th>可上</th>\n",
       "      <th>人數</th>\n",
       "      <th>福利</th>\n",
       "    </tr>\n",
       "    <tr>\n",
       "      <th>id</th>\n",
       "      <th></th>\n",
       "      <th></th>\n",
       "      <th></th>\n",
       "      <th></th>\n",
       "      <th></th>\n",
       "      <th></th>\n",
       "      <th></th>\n",
       "      <th></th>\n",
       "      <th></th>\n",
       "      <th></th>\n",
       "      <th></th>\n",
       "      <th></th>\n",
       "      <th></th>\n",
       "      <th></th>\n",
       "      <th></th>\n",
       "      <th></th>\n",
       "      <th></th>\n",
       "      <th></th>\n",
       "      <th></th>\n",
       "      <th></th>\n",
       "      <th></th>\n",
       "    </tr>\n",
       "  </thead>\n",
       "  <tbody>\n",
       "    <tr>\n",
       "      <th>10660769</th>\n",
       "      <td>2024/04/16</td>\n",
       "      <td>後端工程師｜Back-end Engineer</td>\n",
       "      <td>https://www.104.com.tw/job/6chwh</td>\n",
       "      <td>130000000122189</td>\n",
       "      <td>谷奧科技股份有限公司</td>\n",
       "      <td>https://www.104.com.tw/company/1a2x6bkll9</td>\n",
       "      <td>1001001003</td>\n",
       "      <td>網際網路相關業</td>\n",
       "      <td>台北市</td>\n",
       "      <td>中山區</td>\n",
       "      <td>...</td>\n",
       "      <td>- 其他：■ Are able to complete large features ind...</td>\n",
       "      <td>月薪54,000~65,000元</td>\n",
       "      <td>全職</td>\n",
       "      <td>不需負擔管理責任</td>\n",
       "      <td>無需出差外派</td>\n",
       "      <td>日班</td>\n",
       "      <td>週休二日</td>\n",
       "      <td>不限</td>\n",
       "      <td>1~2人</td>\n",
       "      <td>- 福利制度：．正職自選配備 Mac 筆電\\r\\n．不加班的工作環境\\r\\n．明確升遷管道 ...</td>\n",
       "    </tr>\n",
       "    <tr>\n",
       "      <th>13824437</th>\n",
       "      <td>2024/04/15</td>\n",
       "      <td>C#方案前 /後端系統程式工程師</td>\n",
       "      <td>https://www.104.com.tw/job/88b05</td>\n",
       "      <td>130000000224988</td>\n",
       "      <td>瘋玩科技股份有限公司</td>\n",
       "      <td>https://www.104.com.tw/company/1a2x6bmsws</td>\n",
       "      <td>1001001002</td>\n",
       "      <td>電腦軟體服務業</td>\n",
       "      <td>台北市</td>\n",
       "      <td>內湖區</td>\n",
       "      <td>...</td>\n",
       "      <td></td>\n",
       "      <td>月薪45,000~65,000元</td>\n",
       "      <td>全職</td>\n",
       "      <td>不需負擔管理責任</td>\n",
       "      <td>無需出差外派</td>\n",
       "      <td>日班</td>\n",
       "      <td>依公司規定</td>\n",
       "      <td>不限</td>\n",
       "      <td>3~5人</td>\n",
       "      <td>- 福利制度：【法定項目】\\r\\n週休二日、勞保、健保、特別休假\\r\\n【其他福利】\\r\\n...</td>\n",
       "    </tr>\n",
       "    <tr>\n",
       "      <th>8554677</th>\n",
       "      <td>2024/04/16</td>\n",
       "      <td>軟體設計工程師-網頁後端工程師</td>\n",
       "      <td>https://www.104.com.tw/job/53ctx</td>\n",
       "      <td>27600013000</td>\n",
       "      <td>鈞陽系統整合有限公司</td>\n",
       "      <td>https://www.104.com.tw/company/cogc2bs</td>\n",
       "      <td>1001001002</td>\n",
       "      <td>電腦軟體服務業</td>\n",
       "      <td>台中市</td>\n",
       "      <td>西屯區</td>\n",
       "      <td>...</td>\n",
       "      <td>- 其他：1.有相關工作經驗者佳\\r\\n2.耐心積極學習</td>\n",
       "      <td>月薪32,000~45,000元</td>\n",
       "      <td>全職</td>\n",
       "      <td>不需負擔管理責任</td>\n",
       "      <td>無需出差外派</td>\n",
       "      <td>日班</td>\n",
       "      <td>週休二日</td>\n",
       "      <td>不限</td>\n",
       "      <td>1人</td>\n",
       "      <td>- 福利制度：週休二日、生日禮卷、勞健團保.勞退提撥\\r\\n◆ 保險類\\r\\n1.勞保\\r\\...</td>\n",
       "    </tr>\n",
       "    <tr>\n",
       "      <th>13672968</th>\n",
       "      <td>2024/04/16</td>\n",
       "      <td>Python工程師</td>\n",
       "      <td>https://www.104.com.tw/job/8524o</td>\n",
       "      <td>130000000076068</td>\n",
       "      <td>皓博科技股份有限公司</td>\n",
       "      <td>https://www.104.com.tw/company/1a2x6bjm04</td>\n",
       "      <td>1001001006</td>\n",
       "      <td>其它軟體及網路相關業</td>\n",
       "      <td>台北市</td>\n",
       "      <td>信義區</td>\n",
       "      <td>...</td>\n",
       "      <td></td>\n",
       "      <td>待遇面議</td>\n",
       "      <td>全職</td>\n",
       "      <td>不需負擔管理責任</td>\n",
       "      <td>無需出差外派</td>\n",
       "      <td>日班</td>\n",
       "      <td>依公司規定</td>\n",
       "      <td>不限</td>\n",
       "      <td>1人</td>\n",
       "      <td>- 福利制度：◆\\t優於勞基法假勤制度\\r\\n周休二日，彈性上下班\\r\\n員工到職後滿六個月...</td>\n",
       "    </tr>\n",
       "    <tr>\n",
       "      <th>13445267</th>\n",
       "      <td>2024/04/14</td>\n",
       "      <td>Python 軟體工程師</td>\n",
       "      <td>https://www.104.com.tw/job/806fn</td>\n",
       "      <td>130000000142774</td>\n",
       "      <td>騰達電子有限公司</td>\n",
       "      <td>https://www.104.com.tw/company/1a2x6bl1h2</td>\n",
       "      <td>1001005003</td>\n",
       "      <td>其他電子零組件相關業</td>\n",
       "      <td>台北市</td>\n",
       "      <td>內湖區</td>\n",
       "      <td>...</td>\n",
       "      <td>- 其他：1.\\t具備C++能力\\r\\n2.     Lniux 嵌入式系統開發經驗者佳\\r...</td>\n",
       "      <td>待遇面議</td>\n",
       "      <td>全職</td>\n",
       "      <td>不需負擔管理責任</td>\n",
       "      <td>無需出差外派</td>\n",
       "      <td>日班</td>\n",
       "      <td>週休二日</td>\n",
       "      <td>不限</td>\n",
       "      <td>1~2人</td>\n",
       "      <td>- 福利制度：◆ 獎金制度\\r\\n1. 三節獎金 / 禮品\\r\\n2. 依公司年度營運與員工...</td>\n",
       "    </tr>\n",
       "    <tr>\n",
       "      <th>...</th>\n",
       "      <td>...</td>\n",
       "      <td>...</td>\n",
       "      <td>...</td>\n",
       "      <td>...</td>\n",
       "      <td>...</td>\n",
       "      <td>...</td>\n",
       "      <td>...</td>\n",
       "      <td>...</td>\n",
       "      <td>...</td>\n",
       "      <td>...</td>\n",
       "      <td>...</td>\n",
       "      <td>...</td>\n",
       "      <td>...</td>\n",
       "      <td>...</td>\n",
       "      <td>...</td>\n",
       "      <td>...</td>\n",
       "      <td>...</td>\n",
       "      <td>...</td>\n",
       "      <td>...</td>\n",
       "      <td>...</td>\n",
       "      <td>...</td>\n",
       "    </tr>\n",
       "    <tr>\n",
       "      <th>13942680</th>\n",
       "      <td>2024/04/15</td>\n",
       "      <td>FAE 工程師 /高級工程師</td>\n",
       "      <td>https://www.104.com.tw/job/8au8o</td>\n",
       "      <td>53527123000</td>\n",
       "      <td>台灣立訊精密有限公司</td>\n",
       "      <td>https://www.104.com.tw/company/ol8o0fs</td>\n",
       "      <td>1001005003</td>\n",
       "      <td>其他電子零組件相關業</td>\n",
       "      <td>台北市</td>\n",
       "      <td>內湖區</td>\n",
       "      <td>...</td>\n",
       "      <td>- 其他：1. 對於向客戶推廣並偕同業務開發具備高度興趣\\r\\n2. 熟悉連接器或Cable...</td>\n",
       "      <td>待遇面議</td>\n",
       "      <td>全職</td>\n",
       "      <td>不需負擔管理責任</td>\n",
       "      <td>無需出差外派</td>\n",
       "      <td>日班</td>\n",
       "      <td>依公司規定</td>\n",
       "      <td>不限</td>\n",
       "      <td>1~2人</td>\n",
       "      <td>- 福利制度：團保\\r\\n員工年度健檢\\r\\n二節禮金/禮品\\r\\n婚喪喜慶補助</td>\n",
       "    </tr>\n",
       "    <tr>\n",
       "      <th>12912131</th>\n",
       "      <td>2024/04/15</td>\n",
       "      <td>控制系統工程師 Control System Engineer</td>\n",
       "      <td>https://www.104.com.tw/job/7or2b</td>\n",
       "      <td>130000000193764</td>\n",
       "      <td>張量科技股份有限公司</td>\n",
       "      <td>https://www.104.com.tw/company/1a2x6bm4tg</td>\n",
       "      <td>1001003003</td>\n",
       "      <td>消費性電子產品製造業</td>\n",
       "      <td>新北市</td>\n",
       "      <td>土城區</td>\n",
       "      <td>...</td>\n",
       "      <td></td>\n",
       "      <td>待遇面議</td>\n",
       "      <td>全職</td>\n",
       "      <td>不需負擔管理責任</td>\n",
       "      <td>無需出差外派</td>\n",
       "      <td>日班</td>\n",
       "      <td>週休二日</td>\n",
       "      <td>不限</td>\n",
       "      <td>不限</td>\n",
       "      <td>- 福利制度：【制度】\\r\\n彈性上班：彈性上下班制度，上班不趕車、不用人擠人。\\r\\n遠端...</td>\n",
       "    </tr>\n",
       "    <tr>\n",
       "      <th>13877004</th>\n",
       "      <td>2024/04/15</td>\n",
       "      <td>工研院資通所_光達軟體研發工程師(U101)</td>\n",
       "      <td>https://www.104.com.tw/job/89fkc</td>\n",
       "      <td>2750963000</td>\n",
       "      <td>工研院 _財團法人工業技術研究院</td>\n",
       "      <td>https://www.104.com.tw/company/19huomw</td>\n",
       "      <td>1008003006</td>\n",
       "      <td>其他專業／科學及技術業</td>\n",
       "      <td>新竹縣</td>\n",
       "      <td>竹東鎮</td>\n",
       "      <td>...</td>\n",
       "      <td>- 其他：1. 碩士(含)以上， 資訊/電機/測量/建築/環境工程相關系所畢。\\r\\n2.具...</td>\n",
       "      <td>待遇面議</td>\n",
       "      <td>全職</td>\n",
       "      <td>不需負擔管理責任</td>\n",
       "      <td>需出差，一年累積時間未定</td>\n",
       "      <td>日班，08:00~17:00</td>\n",
       "      <td>依公司規定</td>\n",
       "      <td>不限</td>\n",
       "      <td>2人</td>\n",
       "      <td>- 福利制度：這是一個為研究菁英打造的研發環境，我們的訴求是讓研究人員能在此構築人生理想及技...</td>\n",
       "    </tr>\n",
       "    <tr>\n",
       "      <th>13945317</th>\n",
       "      <td>2024/04/16</td>\n",
       "      <td>資深SoC韌體工程師</td>\n",
       "      <td>https://www.104.com.tw/job/8aw9x</td>\n",
       "      <td>86105539000</td>\n",
       "      <td>海德威電子工業股份有限公司</td>\n",
       "      <td>https://www.104.com.tw/company/13k10j3s</td>\n",
       "      <td>1001006001</td>\n",
       "      <td>IC設計相關業</td>\n",
       "      <td>台中市</td>\n",
       "      <td>西屯區</td>\n",
       "      <td>...</td>\n",
       "      <td>- 其他：具備SoC 韌體開發經驗。\\r\\n懂SoC 電源電路及外設硬體電路設計。\\r\\n熟...</td>\n",
       "      <td>待遇面議</td>\n",
       "      <td>全職</td>\n",
       "      <td>不需負擔管理責任</td>\n",
       "      <td>需出差，一年累積時間約一個月以下</td>\n",
       "      <td>日班</td>\n",
       "      <td>週休二日</td>\n",
       "      <td>不限</td>\n",
       "      <td>不限</td>\n",
       "      <td>- 福利制度：以人為本，從關心、尊重為出發點，提供員工溫馨、舒適的工作環境、完整的教育訓練以...</td>\n",
       "    </tr>\n",
       "    <tr>\n",
       "      <th>13757468</th>\n",
       "      <td>2024/04/15</td>\n",
       "      <td>Site Reliability Engineer (SRE) 網站可靠性工程師</td>\n",
       "      <td>https://www.104.com.tw/job/86vbw</td>\n",
       "      <td>130000000150767</td>\n",
       "      <td>Wi-Fi ALLIANCE_香港商無線工業協作有限公司台灣分公司</td>\n",
       "      <td>https://www.104.com.tw/company/1a2x6bl7n3</td>\n",
       "      <td>1001001003</td>\n",
       "      <td>網際網路相關業</td>\n",
       "      <td>台北市</td>\n",
       "      <td>南港區</td>\n",
       "      <td>...</td>\n",
       "      <td></td>\n",
       "      <td>待遇面議</td>\n",
       "      <td>全職</td>\n",
       "      <td>不需負擔管理責任</td>\n",
       "      <td>無需出差外派</td>\n",
       "      <td>日班，9am-6pm</td>\n",
       "      <td>依公司規定</td>\n",
       "      <td>兩週內</td>\n",
       "      <td>2人</td>\n",
       "      <td>- 福利制度：零食櫃,咖啡吧,健身費用補助,部門聚餐,優於勞基法特休</td>\n",
       "    </tr>\n",
       "  </tbody>\n",
       "</table>\n",
       "<p>2231 rows × 29 columns</p>\n",
       "</div>"
      ],
      "text/plain": [
       "                  更新                                        職缺  \\\n",
       "id                                                               \n",
       "10660769  2024/04/16                   後端工程師｜Back-end Engineer   \n",
       "13824437  2024/04/15                          C#方案前 /後端系統程式工程師   \n",
       "8554677   2024/04/16                           軟體設計工程師-網頁後端工程師   \n",
       "13672968  2024/04/16                                 Python工程師   \n",
       "13445267  2024/04/14                              Python 軟體工程師   \n",
       "...              ...                                       ...   \n",
       "13942680  2024/04/15                            FAE 工程師 /高級工程師   \n",
       "12912131  2024/04/15           控制系統工程師 Control System Engineer   \n",
       "13877004  2024/04/15                    工研院資通所_光達軟體研發工程師(U101)   \n",
       "13945317  2024/04/16                                資深SoC韌體工程師   \n",
       "13757468  2024/04/15  Site Reliability Engineer (SRE) 網站可靠性工程師   \n",
       "\n",
       "                                   職缺_link            公司_id  \\\n",
       "id                                                            \n",
       "10660769  https://www.104.com.tw/job/6chwh  130000000122189   \n",
       "13824437  https://www.104.com.tw/job/88b05  130000000224988   \n",
       "8554677   https://www.104.com.tw/job/53ctx      27600013000   \n",
       "13672968  https://www.104.com.tw/job/8524o  130000000076068   \n",
       "13445267  https://www.104.com.tw/job/806fn  130000000142774   \n",
       "...                                    ...              ...   \n",
       "13942680  https://www.104.com.tw/job/8au8o      53527123000   \n",
       "12912131  https://www.104.com.tw/job/7or2b  130000000193764   \n",
       "13877004  https://www.104.com.tw/job/89fkc       2750963000   \n",
       "13945317  https://www.104.com.tw/job/8aw9x      86105539000   \n",
       "13757468  https://www.104.com.tw/job/86vbw  130000000150767   \n",
       "\n",
       "                                         公司  \\\n",
       "id                                            \n",
       "10660769                         谷奧科技股份有限公司   \n",
       "13824437                         瘋玩科技股份有限公司   \n",
       "8554677                          鈞陽系統整合有限公司   \n",
       "13672968                         皓博科技股份有限公司   \n",
       "13445267                           騰達電子有限公司   \n",
       "...                                     ...   \n",
       "13942680                         台灣立訊精密有限公司   \n",
       "12912131                         張量科技股份有限公司   \n",
       "13877004                   工研院 _財團法人工業技術研究院   \n",
       "13945317                      海德威電子工業股份有限公司   \n",
       "13757468  Wi-Fi ALLIANCE_香港商無線工業協作有限公司台灣分公司   \n",
       "\n",
       "                                            公司_link       產業_id           產業  \\\n",
       "id                                                                             \n",
       "10660769  https://www.104.com.tw/company/1a2x6bkll9  1001001003      網際網路相關業   \n",
       "13824437  https://www.104.com.tw/company/1a2x6bmsws  1001001002      電腦軟體服務業   \n",
       "8554677      https://www.104.com.tw/company/cogc2bs  1001001002      電腦軟體服務業   \n",
       "13672968  https://www.104.com.tw/company/1a2x6bjm04  1001001006   其它軟體及網路相關業   \n",
       "13445267  https://www.104.com.tw/company/1a2x6bl1h2  1001005003   其他電子零組件相關業   \n",
       "...                                             ...         ...          ...   \n",
       "13942680     https://www.104.com.tw/company/ol8o0fs  1001005003   其他電子零組件相關業   \n",
       "12912131  https://www.104.com.tw/company/1a2x6bm4tg  1001003003   消費性電子產品製造業   \n",
       "13877004     https://www.104.com.tw/company/19huomw  1008003006  其他專業／科學及技術業   \n",
       "13945317    https://www.104.com.tw/company/13k10j3s  1001006001      IC設計相關業   \n",
       "13757468  https://www.104.com.tw/company/1a2x6bl7n3  1001001003      網際網路相關業   \n",
       "\n",
       "           縣市   區域  ...                                                 其他  \\\n",
       "id                  ...                                                      \n",
       "10660769  台北市  中山區  ...  - 其他：■ Are able to complete large features ind...   \n",
       "13824437  台北市  內湖區  ...                                                      \n",
       "8554677   台中市  西屯區  ...                       - 其他：1.有相關工作經驗者佳\\r\\n2.耐心積極學習   \n",
       "13672968  台北市  信義區  ...                                                      \n",
       "13445267  台北市  內湖區  ...  - 其他：1.\\t具備C++能力\\r\\n2.     Lniux 嵌入式系統開發經驗者佳\\r...   \n",
       "...       ...  ...  ...                                                ...   \n",
       "13942680  台北市  內湖區  ...  - 其他：1. 對於向客戶推廣並偕同業務開發具備高度興趣\\r\\n2. 熟悉連接器或Cable...   \n",
       "12912131  新北市  土城區  ...                                                      \n",
       "13877004  新竹縣  竹東鎮  ...  - 其他：1. 碩士(含)以上， 資訊/電機/測量/建築/環境工程相關系所畢。\\r\\n2.具...   \n",
       "13945317  台中市  西屯區  ...  - 其他：具備SoC 韌體開發經驗。\\r\\n懂SoC 電源電路及外設硬體電路設計。\\r\\n熟...   \n",
       "13757468  台北市  南港區  ...                                                      \n",
       "\n",
       "                        待遇  性質        管理                出差              時段  \\\n",
       "id                                                                           \n",
       "10660769  月薪54,000~65,000元  全職  不需負擔管理責任            無需出差外派              日班   \n",
       "13824437  月薪45,000~65,000元  全職  不需負擔管理責任            無需出差外派              日班   \n",
       "8554677   月薪32,000~45,000元  全職  不需負擔管理責任            無需出差外派              日班   \n",
       "13672968              待遇面議  全職  不需負擔管理責任            無需出差外派              日班   \n",
       "13445267              待遇面議  全職  不需負擔管理責任            無需出差外派              日班   \n",
       "...                    ...  ..       ...               ...             ...   \n",
       "13942680              待遇面議  全職  不需負擔管理責任            無需出差外派              日班   \n",
       "12912131              待遇面議  全職  不需負擔管理責任            無需出差外派              日班   \n",
       "13877004              待遇面議  全職  不需負擔管理責任      需出差，一年累積時間未定  日班，08:00~17:00   \n",
       "13945317              待遇面議  全職  不需負擔管理責任  需出差，一年累積時間約一個月以下              日班   \n",
       "13757468              待遇面議  全職  不需負擔管理責任            無需出差外派      日班，9am-6pm   \n",
       "\n",
       "             休假   可上    人數                                                 福利  \n",
       "id                                                                             \n",
       "10660769   週休二日   不限  1~2人  - 福利制度：．正職自選配備 Mac 筆電\\r\\n．不加班的工作環境\\r\\n．明確升遷管道 ...  \n",
       "13824437  依公司規定   不限  3~5人  - 福利制度：【法定項目】\\r\\n週休二日、勞保、健保、特別休假\\r\\n【其他福利】\\r\\n...  \n",
       "8554677    週休二日   不限    1人  - 福利制度：週休二日、生日禮卷、勞健團保.勞退提撥\\r\\n◆ 保險類\\r\\n1.勞保\\r\\...  \n",
       "13672968  依公司規定   不限    1人  - 福利制度：◆\\t優於勞基法假勤制度\\r\\n周休二日，彈性上下班\\r\\n員工到職後滿六個月...  \n",
       "13445267   週休二日   不限  1~2人  - 福利制度：◆ 獎金制度\\r\\n1. 三節獎金 / 禮品\\r\\n2. 依公司年度營運與員工...  \n",
       "...         ...  ...   ...                                                ...  \n",
       "13942680  依公司規定   不限  1~2人           - 福利制度：團保\\r\\n員工年度健檢\\r\\n二節禮金/禮品\\r\\n婚喪喜慶補助  \n",
       "12912131   週休二日   不限    不限  - 福利制度：【制度】\\r\\n彈性上班：彈性上下班制度，上班不趕車、不用人擠人。\\r\\n遠端...  \n",
       "13877004  依公司規定   不限    2人  - 福利制度：這是一個為研究菁英打造的研發環境，我們的訴求是讓研究人員能在此構築人生理想及技...  \n",
       "13945317   週休二日   不限    不限  - 福利制度：以人為本，從關心、尊重為出發點，提供員工溫馨、舒適的工作環境、完整的教育訓練以...  \n",
       "13757468  依公司規定  兩週內    2人                 - 福利制度：零食櫃,咖啡吧,健身費用補助,部門聚餐,優於勞基法特休  \n",
       "\n",
       "[2231 rows x 29 columns]"
      ]
     },
     "execution_count": 153,
     "metadata": {},
     "output_type": "execute_result"
    }
   ],
   "source": [
    "# df = data_Warehouse.df_no_sql\n",
    "df = data_Warehouse.df_no_sql\n",
    "df.columns\n",
    "df"
   ]
  },
  {
   "cell_type": "code",
   "execution_count": 93,
   "id": "ea8fafd5-4c26-448b-b262-76864a5e32ad",
   "metadata": {},
   "outputs": [
    {
     "data": {
      "text/plain": [
       "2565"
      ]
     },
     "execution_count": 93,
     "metadata": {},
     "output_type": "execute_result"
    }
   ],
   "source": [
    "# 讀取目標表的資料\n",
    "df = data_Warehouse.read_sql(\"job_info\")\n",
    "len(df)"
   ]
  },
  {
   "cell_type": "markdown",
   "id": "7137cbdc-5d82-4170-b450-9fd24551955f",
   "metadata": {},
   "source": [
    "# Step 5 - Data Application"
   ]
  },
  {
   "cell_type": "markdown",
   "id": "470f8917-6fb6-4b01-94ff-098a746f5938",
   "metadata": {},
   "source": [
    "# Step 99. Test Area - 測試區域"
   ]
  },
  {
   "cell_type": "code",
   "execution_count": 66,
   "id": "bead213b-240a-4a21-893f-fa5da5c85c0f",
   "metadata": {},
   "outputs": [
    {
     "name": "stdout",
     "output_type": "stream",
     "text": [
      "test OK\n"
     ]
    }
   ],
   "source": [
    "import os, time\n",
    "from dotenv import load_dotenv\n",
    "load_dotenv()\n",
    "os.getenv(\"MODE\")\n",
    "from sqlalchemy import create_engine, text\n",
    "from urllib.parse import quote\n",
    "\n",
    "# 對密碼進行 URL 編碼\n",
    "user = \"root\"\n",
    "password = quote(\"Sql@1031\")\n",
    "host = \"localhost\"\n",
    "port = 3306\n",
    "db_name = \"job_db\"\n",
    "# 構建 MySQL 數據庫連接 URL\n",
    "connector_url = f\"mysql+mysqlconnector://{user}:{password}@{host}:{port}/{db_name}\"\n",
    "# print(connector_url)\n",
    "# 創建引擎object\n",
    "engine = create_engine(connector_url, future = True)\n",
    "\n",
    "# SQL 語句範例\n",
    "# sql_statement = \"SELECT * FROM your_table\"  # 替換成實際的表格名稱\n",
    "sql_job_table =  \"\"\"\n",
    "            CREATE TABLE IF NOT EXISTS JobsInfo  (\n",
    "            `更新日期` DATE,\n",
    "            `職缺名稱` VARCHAR(100),\n",
    "            `公司名稱` VARCHAR(100),\n",
    "            `工作內容` TEXT,\n",
    "            `職務類別` INT,\n",
    "            `工作待遇` VARCHAR(100),\n",
    "            `工作性質` INT,\n",
    "            `縣市` INT,\n",
    "            `上班地點` VARCHAR(100),\n",
    "            `管理責任` INT,\n",
    "            `出差外派` INT,\n",
    "            `上班時段` VARCHAR(100),\n",
    "            `休假制度` INT,\n",
    "            `可上班日` INT,\n",
    "            `需求人數` VARCHAR(50),\n",
    "            `工作經歷` INT,\n",
    "            `學歷要求` INT,\n",
    "            `科系要求` VARCHAR(50),\n",
    "            `語文條件` VARCHAR(50),\n",
    "            `擅長工具` VARCHAR(500),\n",
    "            `工作技能` VARCHAR(500),\n",
    "            `其他要求` TEXT,\n",
    "            `連結` TEXT,\n",
    "            PRIMARY KEY (`連結`(255))\n",
    ");\n",
    "        \"\"\"\n",
    "\n",
    "with engine.connect() as connection:\n",
    "    print(\"test OK\")\n",
    "    connection.execute(text(sql_job_table))\n"
   ]
  },
  {
   "cell_type": "code",
   "execution_count": null,
   "id": "6d90682b-1ada-4761-8eb0-54c64d0f4193",
   "metadata": {},
   "outputs": [],
   "source": [
    "# custom filter params for search - simon\n",
    "# role = {'ro':'全職'}\n",
    "# zone = {'zone': '4,5'}\n",
    "# indcat = {'indcat':'1001000000,1002000000,1012000000,1014000000'}\n",
    "# exclude = {'excludeJobKeyword': '軟體,會計,文件整理,行政,百貨,資訊,品管,財務,守衛,技術員,法務,品檢,登打,輪班,無經驗,客戶'}\n",
    "# mode = {'mode':'列表'}  # 一次能呈現比較多筆資料\n",
    "# order = {'order':'日期排序'}\n",
    "# asc = {'asc':'遞減'}\n",
    "# filter_params = get_filter_params(role, zone, indcat, exclude, mode, order, asc)"
   ]
  },
  {
   "cell_type": "code",
   "execution_count": null,
   "id": "23e7b2d4-a954-4452-98fc-833e3e40e7b2",
   "metadata": {},
   "outputs": [],
   "source": [
    "# 如果你在一個 Python script 中執行這樣的程式碼，你可能需要使用 asyncio.run() 函數。\n",
    "# 在異步程式碼中，如果你使用 asyncio.gather 函數收集異步任務的結果，而這些任務沒有顯式返回值，\n",
    "# gather 函數將返回一個包含每個異步任務結果的列表，而這些結果通常是 None。\n",
    "\n",
    "import asyncio\n",
    "\n",
    "async def async_example(i):\n",
    "    print(f\"Start asynchronous task {i}\")\n",
    "    await asyncio.sleep(1)\n",
    "    print(f\"End asynchronous task {i}\")\n",
    "    return f\"Result of task {i}\"\n",
    "\n",
    "# 直接在 Jupyter cell 中執行\n",
    "tasks = [async_example(i) for i in range(5)]\n",
    "results = await asyncio.gather(*tasks)\n",
    "print(results)"
   ]
  },
  {
   "cell_type": "code",
   "execution_count": null,
   "id": "a847d05c-e49b-4300-9456-59586cda0f03",
   "metadata": {},
   "outputs": [],
   "source": [
    "%%time\n",
    "# 計算query時間\n",
    "import pandas as pd\n",
    "current_date = datetime.now().date()    \n",
    "parquet_file = f\"temp-{current_date}.parquet\" \n",
    "parquet_path = f\"temp/{parquet_file}\"\n",
    "df_read = pd.read_parquet(parquet_path)\n",
    "# len(df_read)\n",
    "# df_read\n",
    "# query\n",
    "\n",
    "# pd.read_parquet(parquet_path).query(\"id==13791668\")\n",
    "# CPU times: total: 15.6 ms\n",
    "# Wall time: 12.7 ms\n",
    "# test = pd.read_parquet(parquet_path, filters=[(\"id\", \"=\", 13791668)])\n",
    "# CPU times: total: 0 ns\n",
    "# Wall time: 5.82 ms"
   ]
  }
 ],
 "metadata": {
  "kernelspec": {
   "display_name": "Python 3 (ipykernel)",
   "language": "python",
   "name": "python3"
  },
  "language_info": {
   "codemirror_mode": {
    "name": "ipython",
    "version": 3
   },
   "file_extension": ".py",
   "mimetype": "text/x-python",
   "name": "python",
   "nbconvert_exporter": "python",
   "pygments_lexer": "ipython3",
   "version": "3.10.13"
  }
 },
 "nbformat": 4,
 "nbformat_minor": 5
}
