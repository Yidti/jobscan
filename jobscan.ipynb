{
 "cells": [
  {
   "cell_type": "markdown",
   "id": "eb1d4b84-ce72-4871-8366-dc78a7fb17fb",
   "metadata": {},
   "source": [
    "# Step 1. Reload files & Import Modules - 匯入模組"
   ]
  },
  {
   "cell_type": "markdown",
   "id": "8c984bd7-9a31-4d81-91c4-aeba6791b17e",
   "metadata": {},
   "source": [
    "## 1-1. Reload files - 重讀檔案"
   ]
  },
  {
   "cell_type": "code",
   "execution_count": 1,
   "id": "5d407f79-bd35-4d4c-8bbd-114212527717",
   "metadata": {},
   "outputs": [
    {
     "name": "stdout",
     "output_type": "stream",
     "text": [
      "3.10.13 | packaged by Anaconda, Inc. | (main, Sep 11 2023, 13:24:38) [MSC v.1916 64 bit (AMD64)]\n"
     ]
    }
   ],
   "source": [
    "import sys\n",
    "print(sys.version)"
   ]
  },
  {
   "cell_type": "code",
   "execution_count": 2,
   "id": "1141b824-fa82-4335-a02d-00bed81a491a",
   "metadata": {},
   "outputs": [
    {
     "data": {
      "text/plain": [
       "<module 'translation' from 'C:\\\\Users\\\\Rekam\\\\develop\\\\python\\\\jobscan\\\\translation.py'>"
      ]
     },
     "execution_count": 2,
     "metadata": {},
     "output_type": "execute_result"
    }
   ],
   "source": [
    "# reload file if you eaited them\n",
    "import crawler104, config.search_params, async_example, threaded_async_job, jobs104\n",
    "import data_lake, data_warehouse, translation\n",
    "\n",
    "import importlib\n",
    "importlib.reload(crawler104)\n",
    "importlib.reload(async_example)\n",
    "importlib.reload(threaded_async_job)\n",
    "importlib.reload(jobs104)\n",
    "importlib.reload(config.search_params)\n",
    "importlib.reload(data_lake)\n",
    "importlib.reload(data_warehouse)\n",
    "importlib.reload(translation)"
   ]
  },
  {
   "cell_type": "markdown",
   "id": "8f121df8-16a3-4c1b-8ef7-e3d220a52006",
   "metadata": {},
   "source": [
    "## 1-2. Import Modules - 匯入模組"
   ]
  },
  {
   "cell_type": "code",
   "execution_count": 3,
   "id": "58a236b8-7ccd-4cd6-be4e-2b64a7b8e18c",
   "metadata": {},
   "outputs": [],
   "source": [
    "# import library\n",
    "from crawler104 import Crawler104\n",
    "from config.search_params import get_filter_params\n",
    "from data_lake import DataLake\n",
    "from data_warehouse import DataWarehouse"
   ]
  },
  {
   "cell_type": "code",
   "execution_count": 4,
   "id": "24777e1b-41d4-46bf-aad7-f9db3acbebb8",
   "metadata": {},
   "outputs": [],
   "source": [
    "# 快速執行 reload & import\n",
    "%run main.py"
   ]
  },
  {
   "cell_type": "markdown",
   "id": "9919d95d-b673-4216-99ce-107226faf946",
   "metadata": {},
   "source": [
    "# Step 2. Data Source - 爬蟲抓資料"
   ]
  },
  {
   "cell_type": "markdown",
   "id": "df19f934-3f23-4ec5-94e5-5a5f793e0910",
   "metadata": {},
   "source": [
    "## 2-1. Filter Setting - 過濾條件"
   ]
  },
  {
   "cell_type": "code",
   "execution_count": 5,
   "id": "7582c23b-cd00-4645-99c3-49cd4208a305",
   "metadata": {
    "scrolled": true
   },
   "outputs": [
    {
     "name": "stdout",
     "output_type": "stream",
     "text": [
      "設定排除44家公司\n"
     ]
    }
   ],
   "source": [
    "# custom filter params for search - for yidti\n",
    "role = {'ro':'全職'}\n",
    "keyword = {'keyword':\"後端工程師 python\"}\n",
    "# area = {'area':['新北市', '台北市', '桃園市', '台中市']}\n",
    "isnew = {'isnew':'三日內'}\n",
    "jobexp = {'jobexp':['1年以下', '1-3年']}\n",
    "# 預設\n",
    "mode = {'mode':'列表'}  # 一次能呈現比較多筆資料\n",
    "order = {'order':'日期排序'}\n",
    "asc = {'asc':'遞減'}\n",
    "# filter_params = get_filter_params(role, keyword, area, isnew, jobexp, mode, order, asc)\n",
    "filter_params = get_filter_params(role, keyword, isnew, jobexp, mode, order, asc)\n",
    "# keywords for filter job again\n",
    "job_keywords = ('工程','資料','python','data','數據','後端')\n",
    "# Exclude keywords to filter out companies related to gambling or others that I don't want to consider.\n",
    "company_exclude = ('新加坡商冕創有限公司','新博軟體開發股份有限公司','現觀科技股份有限公司'\n",
    "                   ,'全富數位有限公司','杰思數位有限公司','博凡星國際有限公司',\n",
    "                  '尊博科技股份有限公司','新騎資訊有限公司','新加坡商鈦坦科技股份有限公司台灣分公司',\n",
    "                   '豪穎科技股份有限公司','塶樂微創有限公司','磐弈有限公司',\n",
    "                   '聯訊網路有限公司','冶金數位科技有限公司','肥貓科技有限公司',\n",
    "                   '無名科技有限公司','博澭科技有限公司','緯雲股份有限公司',\n",
    "                   '風采有限公司','英屬維京群島商嘉碼科技有限公司台灣分公司',\n",
    "                   '冠宇數位科技股份有限公司','英仕國際有限公司','元遊科技有限公司',\n",
    "                   '禾碩資訊股份有限公司','向上集團_向上國際科技股份有限公司',\n",
    "                   '弈樂科技股份有限公司','馬來西亞商極限電腦科技有限公司台灣分公司',\n",
    "                   '樂夠科技有限公司','威智國際有限公司','紅信科技有限公司',\n",
    "                   '深思設計有限公司','揚帆科技有限公司','晶要資訊有限公司',\n",
    "                   '九七科技股份有限公司','臣悅科技有限公司','尊承科技股份有限公司',\n",
    "                   '遊戲河流有限公司','唐傳有限公司','捷訊資訊有限公司',\n",
    "                   '逍遙遊科技有限公司','澄果資訊服務有限公司','果遊科技有限公司',\n",
    "                   '昱泉國際股份有限公司','博星數位股份有限公司',\n",
    "                  )\n",
    "user = \"yidti\"\n",
    "crawler = Crawler104(filter_params, user)\n",
    "print(f\"設定排除{len(company_exclude)}家公司\")"
   ]
  },
  {
   "cell_type": "markdown",
   "id": "65f2ac55-a1a1-43d7-b10c-7b0a45d15125",
   "metadata": {},
   "source": [
    "## 2-2. Web Crawler - 抓取Jobs清單"
   ]
  },
  {
   "cell_type": "code",
   "execution_count": 6,
   "id": "dc82644b-0ee1-446c-8a85-25736a64e68c",
   "metadata": {},
   "outputs": [
    {
     "name": "stdout",
     "output_type": "stream",
     "text": [
      "url: https://www.104.com.tw/jobs/search/?ro=1&keyword=%E5%BE%8C%E7%AB%AF%E5%B7%A5%E7%A8%8B%E5%B8%AB+python&isnew=3&jobexp=1%2C3&mode=l&order=16&asc=0\n"
     ]
    },
    {
     "name": "stderr",
     "output_type": "stream",
     "text": [
      "Loading: 100%|██████████| 100/100 [02:49<00:00,  1.70s/page]\n"
     ]
    },
    {
     "name": "stdout",
     "output_type": "stream",
     "text": [
      "載入100頁 | 載入2968筆資料 | 過濾剩2257筆資料 | 花費 191.73 秒\n"
     ]
    }
   ],
   "source": [
    "# chrome for testing -> https://googlechromelabs.github.io/chrome-for-testing/\n",
    "crawler.run(job_keywords, company_exclude)"
   ]
  },
  {
   "cell_type": "markdown",
   "id": "56fb4d88-569f-479a-8744-83b657f2fd1d",
   "metadata": {},
   "source": [
    "## 2-3. Web Scraper - 抓取Jobs內容(異步&多線程)"
   ]
  },
  {
   "cell_type": "code",
   "execution_count": 11,
   "id": "c5a93bc8-1f3d-4d8c-85e1-452099853e08",
   "metadata": {},
   "outputs": [
    {
     "name": "stdout",
     "output_type": "stream",
     "text": [
      "exclude exist and close data\n",
      "Remove from parquet, leaving 0 remaining to scrape .\n"
     ]
    },
    {
     "name": "stderr",
     "output_type": "stream",
     "text": [
      "Processing jobs: 0job [00:00, ?job/s]"
     ]
    },
    {
     "name": "stdout",
     "output_type": "stream",
     "text": [
      "Scraping Details for 0 Jobs | 花費 0.07 秒\n"
     ]
    },
    {
     "name": "stderr",
     "output_type": "stream",
     "text": [
      "\n"
     ]
    }
   ],
   "source": [
    "# 新增 temp 暫存檔 parquet\n",
    "crawler.detail()"
   ]
  },
  {
   "cell_type": "markdown",
   "id": "c7aee73d-a6df-4196-b1c5-255be9e3d291",
   "metadata": {},
   "source": [
    "## 2-3. Export Flie - 輸出至Excel"
   ]
  },
  {
   "cell_type": "code",
   "execution_count": 12,
   "id": "0e8e103c-3cee-4eff-a52d-aa307d19f80c",
   "metadata": {},
   "outputs": [
    {
     "name": "stdout",
     "output_type": "stream",
     "text": [
      "CSV文件保存成功: output/yidti-2024-04-24.xlsx\n"
     ]
    }
   ],
   "source": [
    "# output to excel file (job)\n",
    "crawler.export_excel()"
   ]
  },
  {
   "cell_type": "markdown",
   "id": "8c20eb7f-7c49-41fb-9220-64c4ccdbd6fc",
   "metadata": {},
   "source": [
    "# Step 3. Data Lake - 資料存入NoSQL"
   ]
  },
  {
   "cell_type": "code",
   "execution_count": 13,
   "id": "4dc71e9b-0209-4000-b095-6472c2961224",
   "metadata": {},
   "outputs": [
    {
     "name": "stdout",
     "output_type": "stream",
     "text": [
      "Update 2143 records, Insert 113 records in jobs_104 collection\n",
      "job keywords - 已刪除不符合關鍵字的文件數量: 0\n",
      "company exclude - 已刪除符合條件的文件數量: 0\n"
     ]
    }
   ],
   "source": [
    "# ouput to noSQL (job, company, industry)\n",
    "data_lake = DataLake()\n",
    "data_lake.save_nosql(user, crawler)\n",
    "data_lake.filter(job_keywords, company_exclude)"
   ]
  },
  {
   "cell_type": "markdown",
   "id": "dfd23b65-8333-4cec-8337-5b9612cf4615",
   "metadata": {},
   "source": [
    "# Step 4 - Data Warehouse - 資料存入MySQL"
   ]
  },
  {
   "cell_type": "code",
   "execution_count": 101,
   "id": "b36ca7d2-ffd9-4443-86d5-898a131f4a1d",
   "metadata": {},
   "outputs": [],
   "source": [
    "# 快速執行 reload & import\n",
    "%run main.py"
   ]
  },
  {
   "cell_type": "code",
   "execution_count": 102,
   "id": "6b1ae46f-a3c3-46b0-9a79-373d3e5445f8",
   "metadata": {},
   "outputs": [
    {
     "name": "stdout",
     "output_type": "stream",
     "text": [
      "DB is created (job_db)\n",
      "Successfully executed SQL script\n",
      "Successfully executed SQL script\n",
      "所有要寫入的值都已存在於company目標表中，無需進行寫入\n",
      "所有要寫入的值都已存在於industry目標表中，無需進行寫入\n",
      "所有要寫入的值都已存在於location_city_region目標表中，無需進行寫入\n",
      "所有要寫入的值都已存在於location目標表中，無需進行寫入\n",
      "所有要寫入的值都已存在於experience目標表中，無需進行寫入\n",
      "所有要寫入的值都已存在於education目標表中，無需進行寫入\n",
      "所有要寫入的值都已存在於category_item目標表中，無需進行寫入\n",
      "所有要寫入的值都已存在於category目標表中，無需進行寫入\n",
      "所有要寫入的值都已存在於major_item目標表中，無需進行寫入\n",
      "所有要寫入的值都已存在於major目標表中，無需進行寫入\n",
      "所有要寫入的值都已存在於language_item目標表中，無需進行寫入\n",
      "所有要寫入的值都已存在於language目標表中，無需進行寫入\n",
      "所有要寫入的值都已存在於tool_item目標表中，無需進行寫入\n",
      "所有要寫入的值都已存在於tool目標表中，無需進行寫入\n",
      "所有要寫入的值都已存在於skill_item目標表中，無需進行寫入\n",
      "所有要寫入的值都已存在於skill目標表中，無需進行寫入\n",
      "所有要寫入的值都已存在於benefits目標表中，無需進行寫入\n",
      "所有要寫入的值都已存在於type目標表中，無需進行寫入\n",
      "所有要寫入的值都已存在於management目標表中，無需進行寫入\n",
      "所有要寫入的值都已存在於business_trip目標表中，無需進行寫入\n",
      "所有要寫入的值都已存在於working_hours目標表中，無需進行寫入\n",
      "columns:16\n",
      "所有要寫入的值都已存在於job_info目標表中，無需進行寫入\n"
     ]
    }
   ],
   "source": [
    "data_lake  = DataLake()\n",
    "data_Warehouse = DataWarehouse()\n",
    "data_Warehouse.initial_db()\n",
    "data_Warehouse.save_sql(data_lake)"
   ]
  },
  {
   "cell_type": "code",
   "execution_count": 80,
   "id": "49fff2c1-1cf1-426a-9806-a72c5ea50a7f",
   "metadata": {},
   "outputs": [
    {
     "data": {
      "text/plain": [
       "0                                       日班\n",
       "1                           日班，08:00~17:00\n",
       "2                           日班，10:00-19:00\n",
       "3                           日班，09:00~18:00\n",
       "4        日班，09:30~18: 30 ( 午休 12:00-13:00)\n",
       "                      ...                 \n",
       "208                 日班，9:00~18:00(中午休息1hr)\n",
       "209                                 日班/假日班\n",
       "210    日班，週一至週五 09:00-18:00（彈性上下班），午休1.5小時\n",
       "211                 日班，09:00~18:00 (午休1小時)\n",
       "212                       日班，(08:30-17:30)\n",
       "Name: working_hours, Length: 213, dtype: object"
      ]
     },
     "execution_count": 80,
     "metadata": {},
     "output_type": "execute_result"
    }
   ],
   "source": [
    "from translation import translation_dict\n",
    "import pandas as pd\n",
    "\n",
    "df_new = data_Warehouse.df_no_sql.rename(columns=translation_dict)\n",
    "\n",
    "column_name = \"working_hours\"\n",
    "\n",
    "type(df_new[column_name])\n",
    "\n",
    "# df_new[column_name] = df_new[column_name].str.strip()\n",
    "# loc\n",
    "df_new = df_new[column_name].drop_duplicates().reset_index(drop=True)\n",
    "df_new\n",
    "# tydf_newpe(df_new)\n",
    "# df_new = df_new.sort_values(by = column_name, ascending=True)\n",
    "# df_new.head(10)\n",
    "\n",
    "# type(df_new[column_name])\n",
    "# df_new.to_sql(name=column_name, con=data_Warehouse.engine, if_exists='append', index=False)\n",
    "# len(df_new['working_hours'].drop_duplicates())"
   ]
  },
  {
   "cell_type": "code",
   "execution_count": 66,
   "id": "456927fa-1b6b-4153-a48a-9ccba30e9f3c",
   "metadata": {},
   "outputs": [
    {
     "data": {
      "text/html": [
       "<div>\n",
       "<style scoped>\n",
       "    .dataframe tbody tr th:only-of-type {\n",
       "        vertical-align: middle;\n",
       "    }\n",
       "\n",
       "    .dataframe tbody tr th {\n",
       "        vertical-align: top;\n",
       "    }\n",
       "\n",
       "    .dataframe thead th {\n",
       "        text-align: right;\n",
       "    }\n",
       "</style>\n",
       "<table border=\"1\" class=\"dataframe\">\n",
       "  <thead>\n",
       "    <tr style=\"text-align: right;\">\n",
       "      <th></th>\n",
       "      <th>working_hours</th>\n",
       "    </tr>\n",
       "  </thead>\n",
       "  <tbody>\n",
       "    <tr>\n",
       "      <th>0</th>\n",
       "      <td>大夜班，23:00-08:00</td>\n",
       "    </tr>\n",
       "    <tr>\n",
       "      <th>1</th>\n",
       "      <td>日班</td>\n",
       "    </tr>\n",
       "    <tr>\n",
       "      <th>2</th>\n",
       "      <td>日班/假日班</td>\n",
       "    </tr>\n",
       "    <tr>\n",
       "      <th>3</th>\n",
       "      <td>日班/假日班，12:00~21:00</td>\n",
       "    </tr>\n",
       "    <tr>\n",
       "      <th>4</th>\n",
       "      <td>日班/假日班，需輪班</td>\n",
       "    </tr>\n",
       "    <tr>\n",
       "      <th>...</th>\n",
       "      <td>...</td>\n",
       "    </tr>\n",
       "    <tr>\n",
       "      <th>208</th>\n",
       "      <td>日班，面議</td>\n",
       "    </tr>\n",
       "    <tr>\n",
       "      <th>209</th>\n",
       "      <td>晚班/假日班，需輪班</td>\n",
       "    </tr>\n",
       "    <tr>\n",
       "      <th>210</th>\n",
       "      <td>晚班/大夜班</td>\n",
       "    </tr>\n",
       "    <tr>\n",
       "      <th>211</th>\n",
       "      <td>晚班，20:00~05:00</td>\n",
       "    </tr>\n",
       "    <tr>\n",
       "      <th>212</th>\n",
       "      <td>晚班，固定中班10:30~22:30，做二休二，需輪班</td>\n",
       "    </tr>\n",
       "  </tbody>\n",
       "</table>\n",
       "<p>213 rows × 1 columns</p>\n",
       "</div>"
      ],
      "text/plain": [
       "                   working_hours\n",
       "0                大夜班，23:00-08:00\n",
       "1                             日班\n",
       "2                         日班/假日班\n",
       "3             日班/假日班，12:00~21:00\n",
       "4                     日班/假日班，需輪班\n",
       "..                           ...\n",
       "208                        日班，面議\n",
       "209                   晚班/假日班，需輪班\n",
       "210                       晚班/大夜班\n",
       "211               晚班，20:00~05:00\n",
       "212  晚班，固定中班10:30~22:30，做二休二，需輪班\n",
       "\n",
       "[213 rows x 1 columns]"
      ]
     },
     "execution_count": 66,
     "metadata": {},
     "output_type": "execute_result"
    }
   ],
   "source": [
    "df_new[column_name].reset_index(drop=True)"
   ]
  },
  {
   "cell_type": "code",
   "execution_count": 237,
   "id": "703e110c-fea9-463d-b242-158e538755f7",
   "metadata": {},
   "outputs": [
    {
     "data": {
      "text/plain": [
       "Index(['更新', '職缺', '職缺_link', '公司_id', '公司', '公司_link', '產業_id', '產業', '縣市',\n",
       "       '區域', '地址', '經歷', '學歷', '內容', '類別', '科系', '語文', '工具', '技能', '其他', '待遇',\n",
       "       '性質', '管理', '出差', '時段', '休假', '可上', '人數', '福利'],\n",
       "      dtype='object')"
      ]
     },
     "execution_count": 237,
     "metadata": {},
     "output_type": "execute_result"
    }
   ],
   "source": [
    "# df = data_Warehouse.df_no_sql\n",
    "df = data_Warehouse.df_no_sql\n",
    "df.columns"
   ]
  },
  {
   "cell_type": "markdown",
   "id": "7137cbdc-5d82-4170-b450-9fd24551955f",
   "metadata": {},
   "source": [
    "# Step 5 - Data Application"
   ]
  },
  {
   "cell_type": "markdown",
   "id": "470f8917-6fb6-4b01-94ff-098a746f5938",
   "metadata": {},
   "source": [
    "# Step 99. Test Area - 測試區域"
   ]
  },
  {
   "cell_type": "code",
   "execution_count": 66,
   "id": "bead213b-240a-4a21-893f-fa5da5c85c0f",
   "metadata": {},
   "outputs": [
    {
     "name": "stdout",
     "output_type": "stream",
     "text": [
      "test OK\n"
     ]
    }
   ],
   "source": [
    "import os, time\n",
    "from dotenv import load_dotenv\n",
    "load_dotenv()\n",
    "os.getenv(\"MODE\")\n",
    "from sqlalchemy import create_engine, text\n",
    "from urllib.parse import quote\n",
    "\n",
    "# 對密碼進行 URL 編碼\n",
    "user = \"root\"\n",
    "password = quote(\"Sql@1031\")\n",
    "host = \"localhost\"\n",
    "port = 3306\n",
    "db_name = \"job_db\"\n",
    "# 構建 MySQL 數據庫連接 URL\n",
    "connector_url = f\"mysql+mysqlconnector://{user}:{password}@{host}:{port}/{db_name}\"\n",
    "# print(connector_url)\n",
    "# 創建引擎object\n",
    "engine = create_engine(connector_url, future = True)\n",
    "\n",
    "# SQL 語句範例\n",
    "# sql_statement = \"SELECT * FROM your_table\"  # 替換成實際的表格名稱\n",
    "sql_job_table =  \"\"\"\n",
    "            CREATE TABLE IF NOT EXISTS JobsInfo  (\n",
    "            `更新日期` DATE,\n",
    "            `職缺名稱` VARCHAR(100),\n",
    "            `公司名稱` VARCHAR(100),\n",
    "            `工作內容` TEXT,\n",
    "            `職務類別` INT,\n",
    "            `工作待遇` VARCHAR(100),\n",
    "            `工作性質` INT,\n",
    "            `縣市` INT,\n",
    "            `上班地點` VARCHAR(100),\n",
    "            `管理責任` INT,\n",
    "            `出差外派` INT,\n",
    "            `上班時段` VARCHAR(100),\n",
    "            `休假制度` INT,\n",
    "            `可上班日` INT,\n",
    "            `需求人數` VARCHAR(50),\n",
    "            `工作經歷` INT,\n",
    "            `學歷要求` INT,\n",
    "            `科系要求` VARCHAR(50),\n",
    "            `語文條件` VARCHAR(50),\n",
    "            `擅長工具` VARCHAR(500),\n",
    "            `工作技能` VARCHAR(500),\n",
    "            `其他要求` TEXT,\n",
    "            `連結` TEXT,\n",
    "            PRIMARY KEY (`連結`(255))\n",
    ");\n",
    "        \"\"\"\n",
    "\n",
    "with engine.connect() as connection:\n",
    "    print(\"test OK\")\n",
    "    connection.execute(text(sql_job_table))\n"
   ]
  },
  {
   "cell_type": "code",
   "execution_count": null,
   "id": "6d90682b-1ada-4761-8eb0-54c64d0f4193",
   "metadata": {},
   "outputs": [],
   "source": [
    "# custom filter params for search - simon\n",
    "# role = {'ro':'全職'}\n",
    "# zone = {'zone': '4,5'}\n",
    "# indcat = {'indcat':'1001000000,1002000000,1012000000,1014000000'}\n",
    "# exclude = {'excludeJobKeyword': '軟體,會計,文件整理,行政,百貨,資訊,品管,財務,守衛,技術員,法務,品檢,登打,輪班,無經驗,客戶'}\n",
    "# mode = {'mode':'列表'}  # 一次能呈現比較多筆資料\n",
    "# order = {'order':'日期排序'}\n",
    "# asc = {'asc':'遞減'}\n",
    "# filter_params = get_filter_params(role, zone, indcat, exclude, mode, order, asc)"
   ]
  },
  {
   "cell_type": "code",
   "execution_count": null,
   "id": "23e7b2d4-a954-4452-98fc-833e3e40e7b2",
   "metadata": {},
   "outputs": [],
   "source": [
    "# 如果你在一個 Python script 中執行這樣的程式碼，你可能需要使用 asyncio.run() 函數。\n",
    "# 在異步程式碼中，如果你使用 asyncio.gather 函數收集異步任務的結果，而這些任務沒有顯式返回值，\n",
    "# gather 函數將返回一個包含每個異步任務結果的列表，而這些結果通常是 None。\n",
    "\n",
    "import asyncio\n",
    "\n",
    "async def async_example(i):\n",
    "    print(f\"Start asynchronous task {i}\")\n",
    "    await asyncio.sleep(1)\n",
    "    print(f\"End asynchronous task {i}\")\n",
    "    return f\"Result of task {i}\"\n",
    "\n",
    "# 直接在 Jupyter cell 中執行\n",
    "tasks = [async_example(i) for i in range(5)]\n",
    "results = await asyncio.gather(*tasks)\n",
    "print(results)"
   ]
  },
  {
   "cell_type": "code",
   "execution_count": null,
   "id": "a847d05c-e49b-4300-9456-59586cda0f03",
   "metadata": {},
   "outputs": [],
   "source": [
    "%%time\n",
    "# 計算query時間\n",
    "import pandas as pd\n",
    "current_date = datetime.now().date()    \n",
    "parquet_file = f\"temp-{current_date}.parquet\" \n",
    "parquet_path = f\"temp/{parquet_file}\"\n",
    "df_read = pd.read_parquet(parquet_path)\n",
    "# len(df_read)\n",
    "# df_read\n",
    "# query\n",
    "\n",
    "# pd.read_parquet(parquet_path).query(\"id==13791668\")\n",
    "# CPU times: total: 15.6 ms\n",
    "# Wall time: 12.7 ms\n",
    "# test = pd.read_parquet(parquet_path, filters=[(\"id\", \"=\", 13791668)])\n",
    "# CPU times: total: 0 ns\n",
    "# Wall time: 5.82 ms"
   ]
  }
 ],
 "metadata": {
  "kernelspec": {
   "display_name": "Python 3 (ipykernel)",
   "language": "python",
   "name": "python3"
  },
  "language_info": {
   "codemirror_mode": {
    "name": "ipython",
    "version": 3
   },
   "file_extension": ".py",
   "mimetype": "text/x-python",
   "name": "python",
   "nbconvert_exporter": "python",
   "pygments_lexer": "ipython3",
   "version": "3.10.13"
  }
 },
 "nbformat": 4,
 "nbformat_minor": 5
}
