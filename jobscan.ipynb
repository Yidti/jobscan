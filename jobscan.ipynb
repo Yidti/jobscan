{
 "cells": [
  {
   "cell_type": "markdown",
   "id": "9919d95d-b673-4216-99ce-107226faf946",
   "metadata": {},
   "source": [
    "# Step1 - Data Source"
   ]
  },
  {
   "cell_type": "markdown",
   "id": "eb1d4b84-ce72-4871-8366-dc78a7fb17fb",
   "metadata": {},
   "source": [
    "## 1. 匯入模組 - Reload files & Import Modules"
   ]
  },
  {
   "cell_type": "code",
   "execution_count": 56,
   "id": "1141b824-fa82-4335-a02d-00bed81a491a",
   "metadata": {},
   "outputs": [],
   "source": [
    "# reload file if you eaited them\n",
    "import crawler104, config.search_params, async_example, threaded_async_job, jobs104\n",
    "import data_lake\n",
    "import importlib\n",
    "importlib.reload(crawler104)\n",
    "importlib.reload(async_example)\n",
    "importlib.reload(threaded_async_job)\n",
    "importlib.reload(jobs104)\n",
    "importlib.reload(config.search_params)\n",
    "importlib.reload(data_lake)\n",
    "\n",
    "# import library\n",
    "from crawler104 import Crawler104\n",
    "from config.search_params import get_filter_params\n",
    "from data_lake import DataLake"
   ]
  },
  {
   "cell_type": "markdown",
   "id": "65f2ac55-a1a1-43d7-b10c-7b0a45d15125",
   "metadata": {},
   "source": [
    "## 2. 抓取Jobs清單 - Web Crawler"
   ]
  },
  {
   "cell_type": "code",
   "execution_count": 2,
   "id": "7582c23b-cd00-4645-99c3-49cd4208a305",
   "metadata": {
    "scrolled": true
   },
   "outputs": [
    {
     "name": "stdout",
     "output_type": "stream",
     "text": [
      "url: https://www.104.com.tw/jobs/search/?ro=1&keyword=%E5%BE%8C%E7%AB%AF%E5%B7%A5%E7%A8%8B%E5%B8%AB+python&isnew=3&jobexp=1%2C3&mode=l&order=16&asc=0\n"
     ]
    },
    {
     "name": "stderr",
     "output_type": "stream",
     "text": [
      "Loading: 100%|██████████| 100/100 [02:26<00:00,  1.46s/page]\n"
     ]
    },
    {
     "name": "stdout",
     "output_type": "stream",
     "text": [
      "載入100頁 | 載入2969筆資料 | 過濾剩2349筆資料 | 花費 166.11 秒\n"
     ]
    }
   ],
   "source": [
    "# custom filter params for search - for yidti\n",
    "role = {'ro':'全職'}\n",
    "keyword = {'keyword':\"後端工程師 python\"}\n",
    "# area = {'area':['新北市', '台北市', '桃園市', '台中市']}\n",
    "isnew = {'isnew':'三日內'}\n",
    "jobexp = {'jobexp':['1年以下', '1-3年']}\n",
    "# 預設\n",
    "mode = {'mode':'列表'}  # 一次能呈現比較多筆資料\n",
    "order = {'order':'日期排序'}\n",
    "asc = {'asc':'遞減'}\n",
    "# filter_params = get_filter_params(role, keyword, area, isnew, jobexp, mode, order, asc)\n",
    "filter_params = get_filter_params(role, keyword, isnew, jobexp, mode, order, asc)\n",
    "\n",
    "# keywords for filter again\n",
    "job_keywords = ('工程','資料','python','data','數據','後端')\n",
    "# company_exclude_keywords = pending....\n",
    "\n",
    "# -------------------------------------------\n",
    "# 根據過濾參數開始爬蟲 & 再次根據keyword過濾jobs \n",
    "crawler = Crawler104(filter_params)\n",
    "filtered_jobs = crawler.run(job_keywords)"
   ]
  },
  {
   "cell_type": "markdown",
   "id": "56fb4d88-569f-479a-8744-83b657f2fd1d",
   "metadata": {},
   "source": [
    "## 3. 抓取Jobs內容(異步&多線程) - Web Scraper"
   ]
  },
  {
   "cell_type": "code",
   "execution_count": 3,
   "id": "c5a93bc8-1f3d-4d8c-85e1-452099853e08",
   "metadata": {},
   "outputs": [
    {
     "name": "stdout",
     "output_type": "stream",
     "text": [
      "jobs:2349\n"
     ]
    },
    {
     "name": "stderr",
     "output_type": "stream",
     "text": [
      "Processing jobs:  80%|████████  | 1890/2349 [05:11<01:35,  4.80job/s]"
     ]
    },
    {
     "name": "stdout",
     "output_type": "stream",
     "text": [
      "Error loading https://www.104.com.tw/job/7xl2a, Error: Message: timeout: Timed out receiving message from renderer: 297.209\n",
      "  (Session info: chrome-headless-shell=121.0.6167.87)\n",
      "Stacktrace:\n",
      "\tGetHandleVerifier [0x00007FF758C35E42+3538674]\n",
      "\t(No symbol) [0x00007FF758854C02]\n",
      "\t(No symbol) [0x00007FF758705AEB]\n",
      "\t(No symbol) [0x00007FF7586F2FE8]\n",
      "\t(No symbol) [0x00007FF7586F2E9F]\n",
      "\t(No symbol) [0x00007FF7586F13A5]\n",
      "\t(No symbol) [0x00007FF7586F1E5F]\n",
      "\t(No symbol) [0x00007FF7586FF32E]\n",
      "\t(No symbol) [0x00007FF758711D83]\n",
      "\t(No symbol) [0x00007FF7587161DA]\n",
      "\t(No symbol) [0x00007FF7586F2420]\n",
      "\t(No symbol) [0x00007FF758711B9A]\n",
      "\t(No symbol) [0x00007FF75878C13E]\n",
      "\t(No symbol) [0x00007FF75876EE53]\n",
      "\t(No symbol) [0x00007FF75873F514]\n",
      "\t(No symbol) [0x00007FF758740631]\n",
      "\tGetHandleVerifier [0x00007FF758C66CAD+3738973]\n",
      "\tGetHandleVerifier [0x00007FF758CBC506+4089270]\n",
      "\tGetHandleVerifier [0x00007FF758CB4823+4057299]\n",
      "\tGetHandleVerifier [0x00007FF758985C49+720121]\n",
      "\t(No symbol) [0x00007FF75886126F]\n",
      "\t(No symbol) [0x00007FF75885C304]\n",
      "\t(No symbol) [0x00007FF75885C432]\n",
      "\t(No symbol) [0x00007FF75884BD04]\n",
      "\tBaseThreadInitThunk [0x00007FFCF5AF257D+29]\n",
      "\tRtlUserThreadStart [0x00007FFCF6D8AA58+40]\n",
      ", retrying...\n"
     ]
    },
    {
     "name": "stderr",
     "output_type": "stream",
     "text": [
      "Processing jobs: 100%|██████████| 2349/2349 [06:43<00:00,  5.82job/s]\n"
     ]
    },
    {
     "name": "stdout",
     "output_type": "stream",
     "text": [
      "花費 403.34 秒\n",
      "CSV文件保存成功: output/yidti_2024-02-02_1.xlsx\n"
     ]
    }
   ],
   "source": [
    "jobs_details = crawler.detail(filtered_jobs)\n",
    "# output (save excel file)\n",
    "user = \"yidti\"\n",
    "crawler.export(user)"
   ]
  },
  {
   "cell_type": "markdown",
   "id": "c7aee73d-a6df-4196-b1c5-255be9e3d291",
   "metadata": {},
   "source": [
    "# Step 2 - Data Lake"
   ]
  },
  {
   "cell_type": "code",
   "execution_count": 55,
   "id": "4dc71e9b-0209-4000-b095-6472c2961224",
   "metadata": {},
   "outputs": [
    {
     "name": "stdout",
     "output_type": "stream",
     "text": [
      "df length: 2349\n",
      "Cell num including null: 949\n",
      "Row num including null: 867\n",
      "更新2349筆, 新增0筆\n"
     ]
    }
   ],
   "source": [
    "user = \"yidti\"\n",
    "data_Lake = DataLake()\n",
    "data_Lake.upload_to_nosql(user)"
   ]
  },
  {
   "cell_type": "markdown",
   "id": "dfd23b65-8333-4cec-8337-5b9612cf4615",
   "metadata": {},
   "source": [
    "# Step 3 - Data Warehouse"
   ]
  },
  {
   "cell_type": "markdown",
   "id": "7137cbdc-5d82-4170-b450-9fd24551955f",
   "metadata": {},
   "source": [
    "# Step 4 - Data Application"
   ]
  },
  {
   "cell_type": "markdown",
   "id": "470f8917-6fb6-4b01-94ff-098a746f5938",
   "metadata": {},
   "source": [
    "# 99. 測試區"
   ]
  },
  {
   "cell_type": "code",
   "execution_count": null,
   "id": "6d90682b-1ada-4761-8eb0-54c64d0f4193",
   "metadata": {},
   "outputs": [],
   "source": [
    "# custom filter params for search - simon\n",
    "# role = {'ro':'全職'}\n",
    "# zone = {'zone': '4,5'}\n",
    "# indcat = {'indcat':'1001000000,1002000000,1012000000,1014000000'}\n",
    "# exclude = {'excludeJobKeyword': '軟體,會計,文件整理,行政,百貨,資訊,品管,財務,守衛,技術員,法務,品檢,登打,輪班,無經驗,客戶'}\n",
    "# mode = {'mode':'列表'}  # 一次能呈現比較多筆資料\n",
    "# order = {'order':'日期排序'}\n",
    "# asc = {'asc':'遞減'}\n",
    "# filter_params = get_filter_params(role, zone, indcat, exclude, mode, order, asc)"
   ]
  },
  {
   "cell_type": "code",
   "execution_count": null,
   "id": "23e7b2d4-a954-4452-98fc-833e3e40e7b2",
   "metadata": {},
   "outputs": [],
   "source": [
    "# 如果你在一個 Python script 中執行這樣的程式碼，你可能需要使用 asyncio.run() 函數。\n",
    "# 在異步程式碼中，如果你使用 asyncio.gather 函數收集異步任務的結果，而這些任務沒有顯式返回值，\n",
    "# gather 函數將返回一個包含每個異步任務結果的列表，而這些結果通常是 None。\n",
    "\n",
    "import asyncio\n",
    "\n",
    "async def async_example(i):\n",
    "    print(f\"Start asynchronous task {i}\")\n",
    "    await asyncio.sleep(1)\n",
    "    print(f\"End asynchronous task {i}\")\n",
    "    return f\"Result of task {i}\"\n",
    "\n",
    "# 直接在 Jupyter cell 中執行\n",
    "tasks = [async_example(i) for i in range(5)]\n",
    "results = await asyncio.gather(*tasks)\n",
    "print(results)"
   ]
  }
 ],
 "metadata": {
  "kernelspec": {
   "display_name": "Python 3 (ipykernel)",
   "language": "python",
   "name": "python3"
  },
  "language_info": {
   "codemirror_mode": {
    "name": "ipython",
    "version": 3
   },
   "file_extension": ".py",
   "mimetype": "text/x-python",
   "name": "python",
   "nbconvert_exporter": "python",
   "pygments_lexer": "ipython3",
   "version": "3.10.13"
  }
 },
 "nbformat": 4,
 "nbformat_minor": 5
}
