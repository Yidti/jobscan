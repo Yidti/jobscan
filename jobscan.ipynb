{
 "cells": [
  {
   "cell_type": "markdown",
   "id": "eb1d4b84-ce72-4871-8366-dc78a7fb17fb",
   "metadata": {},
   "source": [
    "# 1. 匯入模組 - Reload files & Import Modules"
   ]
  },
  {
   "cell_type": "code",
   "execution_count": 41,
   "id": "1141b824-fa82-4335-a02d-00bed81a491a",
   "metadata": {},
   "outputs": [],
   "source": [
    "# reload file if you eaited them\n",
    "import crawler104, config.search_params, async_example, threaded_async_job, jobs104\n",
    "import importlib\n",
    "importlib.reload(crawler104)\n",
    "importlib.reload(async_example)\n",
    "importlib.reload(threaded_async_job)\n",
    "importlib.reload(jobs104)\n",
    "importlib.reload(config.search_params)\n",
    "# import library\n",
    "from crawler104 import Crawler104\n",
    "from config.search_params import get_filter_params"
   ]
  },
  {
   "cell_type": "markdown",
   "id": "65f2ac55-a1a1-43d7-b10c-7b0a45d15125",
   "metadata": {},
   "source": [
    "# 2. 抓取Jobs清單 - Web Crawler"
   ]
  },
  {
   "cell_type": "code",
   "execution_count": 44,
   "id": "7582c23b-cd00-4645-99c3-49cd4208a305",
   "metadata": {},
   "outputs": [
    {
     "name": "stdout",
     "output_type": "stream",
     "text": [
      "url: https://www.104.com.tw/jobs/search/?ro=1&keyword=%E5%BE%8C%E7%AB%AF%E5%B7%A5%E7%A8%8B%E5%B8%AB+python&isnew=3&jobexp=1%2C3&mode=l&order=16&asc=0\n",
      "載入30筆資料 | 過濾剩29筆資料 | 花費 12.17 秒\n"
     ]
    }
   ],
   "source": [
    "# custom filter params for search - for yidti\n",
    "role = {'ro':'全職'}\n",
    "keyword = {'keyword':\"後端工程師 python\"}\n",
    "# area = {'area':['新北市', '台北市', '桃園市', '台中市']}\n",
    "isnew = {'isnew':'三日內'}\n",
    "jobexp = {'jobexp':['1年以下', '1-3年']}\n",
    "# 預設\n",
    "mode = {'mode':'列表'}  # 一次能呈現比較多筆資料\n",
    "order = {'order':'日期排序'}\n",
    "asc = {'asc':'遞減'}\n",
    "# filter_params = get_filter_params(role, keyword, area, isnew, jobexp, mode, order, asc)\n",
    "filter_params = get_filter_params(role, keyword, isnew, jobexp, mode, order, asc)\n",
    "\n",
    "# keywords for filter again\n",
    "job_keywords = ('工程','資料','python','data','數據','後端')\n",
    "# company_exclude_keywords = pending....\n",
    "\n",
    "# -------------------------------------------\n",
    "# 根據過濾參數開始爬蟲 & 再次根據keyword過濾jobs \n",
    "crawler = Crawler104(filter_params)\n",
    "filtered_jobs = crawler.run(job_keywords)"
   ]
  },
  {
   "cell_type": "markdown",
   "id": "56fb4d88-569f-479a-8744-83b657f2fd1d",
   "metadata": {},
   "source": [
    "# 3. 抓取Jobs內容(異步&多線程) - Web Scraper"
   ]
  },
  {
   "cell_type": "code",
   "execution_count": 37,
   "id": "aa40db6d-ba0f-43cc-9af9-93cfb8319e98",
   "metadata": {},
   "outputs": [
    {
     "data": {
      "text/plain": [
       "31"
      ]
     },
     "execution_count": 37,
     "metadata": {},
     "output_type": "execute_result"
    }
   ],
   "source": [
    "len(crawler.df_jobs)"
   ]
  },
  {
   "cell_type": "code",
   "execution_count": 45,
   "id": "c5a93bc8-1f3d-4d8c-85e1-452099853e08",
   "metadata": {},
   "outputs": [
    {
     "name": "stdout",
     "output_type": "stream",
     "text": [
      "jobs:29\n",
      "【擴大徵才】軟體開發部｜Backend Engineer 後端工程師 | 汪喵星球_自力耕生股份有限公司 | 2024/01/26\n",
      "後端工程師 | 飛聚整合行銷有限公司 | 2024/01/26\n",
      "Python後端工程師 | 深思設計有限公司 | 2024/01/26\n",
      "Node.js後端工程師 | 博晶醫電股份有限公司 | 2024/01/26\n",
      "後端工程師 Backend Engineer (NodeJS, NestJS) | 指數資訊股份有限公司 | 2024/01/26\n",
      "後端工程師 | 安富財經科技股份有限公司 | 2024/01/26\n",
      "後端工程師 | 瑞艾科技有限公司 | 2024/01/26\n",
      "【線上面試】遊戲後端工程師 | 禾碩資訊股份有限公司 | 2024/01/26\n",
      "網站後端工程師 Back-End Developer | 藍星球資訊股份有限公司 | 2024/01/26\n",
      "後端工程師 Junior Backend Engineer - Python Framework | 地樺營造事業股份有限公司 | 2024/01/26\n",
      "Backend Engineer (Golang) | 後端工程師 (invos發票存摺) | 麻布數據科技股份有限公司 | 2024/01/26\n",
      "【研發部】Backend Engineer - 後端工程師 | 快食尚數位股份有限公司 | 2024/01/26\n",
      "Backend Engineer 研發部後端工程師 | 集星網路股份有限公司 | 2024/01/26\n",
      "【線上面試】Golang後端工程師 | 禾碩資訊股份有限公司 | 2024/01/26\n",
      "Jr. Python/Django 後端工程師 | 矽羽科技有限公司 | 2024/01/26\n",
      "助理後端工程師(Golang) | 迪梯西數位科技有限公司 | 2024/01/26\n",
      "後端工程師 | 承鋒資訊顧問有限公司 | 2024/01/26\n",
      "Backend Engineer 後端工程師 ( PHP | E-Commerce ) | AREA02_台灣娜克阜股份有限公司 | 2024/01/26\n",
      "MES後端工程師 | 大立光電股份有限公司 | 2024/01/26\n",
      "後端工程師 | 深思設計有限公司 | 2024/01/26\n",
      "後端工程師 (Jr.) Backend Engineer | 微拓科技股份有限公司 | 2024/01/26\n",
      "後端工程師｜Backend Engineer | 薩摩亞商動見科技股份有限公司台灣分公司 | 2024/01/26\n",
      "ASP.NET C#後端工程師【總公司】 | 東森房屋總部_東森京瑑股份有限公司 | 2024/01/26\n",
      "Backend Engineer_後端工程師 | 全曜財經資訊股份有限公司 | 2024/01/26\n",
      "後端工程師 Backend Engineer ( 高雄地區 ) | 威力工業網絡股份有限公司 | 2024/01/26\n",
      "C#後端工程師 | 美商螳螂機器人科技股份有限公司台灣分公司 | 2024/01/26\n",
      "★可年後報到★ PHP後端工程師 | 百阜科技股份有限公司 | 2024/01/26\n",
      "網頁後端工程師 | 博鈞科技股份有限公司 | 2024/01/26\n",
      "後端軟體工程師 | 廣明光電股份有限公司_廣達關係企業 | 2024/01/26\n",
      "花費 21.58 秒\n",
      "CSV文件保存成功: output/yidti_2024-01-26_1.xlsx\n"
     ]
    }
   ],
   "source": [
    "jobs_details = crawler.detail(filtered_jobs)\n",
    "# output (save excel file)\n",
    "crawler.export(\"yidti\")"
   ]
  },
  {
   "cell_type": "markdown",
   "id": "470f8917-6fb6-4b01-94ff-098a746f5938",
   "metadata": {},
   "source": [
    "# 99. 測試區"
   ]
  },
  {
   "cell_type": "code",
   "execution_count": null,
   "id": "6d90682b-1ada-4761-8eb0-54c64d0f4193",
   "metadata": {},
   "outputs": [],
   "source": [
    "# custom filter params for search - simon\n",
    "# role = {'ro':'全職'}\n",
    "# zone = {'zone': '4,5'}\n",
    "# indcat = {'indcat':'1001000000,1002000000,1012000000,1014000000'}\n",
    "# exclude = {'excludeJobKeyword': '軟體,會計,文件整理,行政,百貨,資訊,品管,財務,守衛,技術員,法務,品檢,登打,輪班,無經驗,客戶'}\n",
    "# mode = {'mode':'列表'}  # 一次能呈現比較多筆資料\n",
    "# order = {'order':'日期排序'}\n",
    "# asc = {'asc':'遞減'}\n",
    "# filter_params = get_filter_params(role, zone, indcat, exclude, mode, order, asc)"
   ]
  },
  {
   "cell_type": "code",
   "execution_count": 49,
   "id": "f082036e-b7d7-4299-97e3-2e246b933927",
   "metadata": {},
   "outputs": [
    {
     "name": "stdout",
     "output_type": "stream",
     "text": [
      "0 https://example.com/job/1\n",
      "1 https://example.com/job/2\n",
      "2 https://example.com/job/3\n",
      "Excel檔案已輸出至 outpu5t.xlsx\n"
     ]
    }
   ],
   "source": [
    "import pandas as pd\n",
    "\n",
    "# 假設有一個DataFrame，包含職缺名稱和職缺連結\n",
    "data = {'職缺名稱': ['工程師', '設計師', '行銷專員'],\n",
    "        '職缺連結': ['https://example.com/job/1', 'https://example.com/job/2', 'https://example.com/job/3']}\n",
    "\n",
    "df = pd.DataFrame(data)\n",
    "\n",
    "# 創建一個Excel寫入器\n",
    "output_path = 'outpu5t.xlsx'\n",
    "with pd.ExcelWriter(output_path, engine='xlsxwriter') as writer:\n",
    "    # 寫入DataFrame到Excel\n",
    "    df.to_excel(writer, index=False, sheet_name='Sheet1')\n",
    "\n",
    "    # 取得Excel寫入器的工作表對象\n",
    "    worksheet = writer.sheets['Sheet1']\n",
    "\n",
    "    # 設置超連結\n",
    "    for index, row in df.iterrows():\n",
    "        print(index, row['職缺連結'])\n",
    "        url = row['職缺連結']\n",
    "        cell_row = index + 1\n",
    "        cell_col = df.columns.get_loc('職缺名稱')\n",
    "        worksheet.write_url(cell_row, cell_col, url, string=row['職缺名稱'])\n",
    "\n",
    "print(f'Excel檔案已輸出至 {output_path}')\n"
   ]
  },
  {
   "cell_type": "code",
   "execution_count": 556,
   "id": "23e7b2d4-a954-4452-98fc-833e3e40e7b2",
   "metadata": {},
   "outputs": [
    {
     "name": "stdout",
     "output_type": "stream",
     "text": [
      "Start asynchronous task 0\n",
      "Start asynchronous task 1\n",
      "Start asynchronous task 2\n",
      "Start asynchronous task 3\n",
      "Start asynchronous task 4\n",
      "End asynchronous task 0\n",
      "End asynchronous task 2\n",
      "End asynchronous task 4\n",
      "End asynchronous task 1\n",
      "End asynchronous task 3\n",
      "['Result of task 0', 'Result of task 1', 'Result of task 2', 'Result of task 3', 'Result of task 4']\n"
     ]
    }
   ],
   "source": [
    "# 如果你在一個 Python script 中執行這樣的程式碼，你可能需要使用 asyncio.run() 函數。\n",
    "# 在異步程式碼中，如果你使用 asyncio.gather 函數收集異步任務的結果，而這些任務沒有顯式返回值，\n",
    "# gather 函數將返回一個包含每個異步任務結果的列表，而這些結果通常是 None。\n",
    "\n",
    "import asyncio\n",
    "\n",
    "async def async_example(i):\n",
    "    print(f\"Start asynchronous task {i}\")\n",
    "    await asyncio.sleep(1)\n",
    "    print(f\"End asynchronous task {i}\")\n",
    "    return f\"Result of task {i}\"\n",
    "\n",
    "# 直接在 Jupyter cell 中執行\n",
    "tasks = [async_example(i) for i in range(5)]\n",
    "results = await asyncio.gather(*tasks)\n",
    "print(results)"
   ]
  }
 ],
 "metadata": {
  "kernelspec": {
   "display_name": "Python 3 (ipykernel)",
   "language": "python",
   "name": "python3"
  },
  "language_info": {
   "codemirror_mode": {
    "name": "ipython",
    "version": 3
   },
   "file_extension": ".py",
   "mimetype": "text/x-python",
   "name": "python",
   "nbconvert_exporter": "python",
   "pygments_lexer": "ipython3",
   "version": "3.10.13"
  }
 },
 "nbformat": 4,
 "nbformat_minor": 5
}
